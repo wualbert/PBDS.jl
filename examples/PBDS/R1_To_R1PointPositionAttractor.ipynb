{
 "cells": [
  {
   "cell_type": "markdown",
   "metadata": {},
   "source": [
    "## R1 To R1 Attractor, Position Around Point"
   ]
  },
  {
   "cell_type": "code",
   "execution_count": 27,
   "metadata": {
    "scrolled": false
   },
   "outputs": [],
   "source": [
    "using PBDS, StaticArrays, LinearAlgebra, BenchmarkTools"
   ]
  },
  {
   "cell_type": "markdown",
   "metadata": {},
   "source": [
    "## Setup"
   ]
  },
  {
   "cell_type": "code",
   "execution_count": 28,
   "metadata": {},
   "outputs": [],
   "source": [
    "PBDS.metric_chart(xn, task::Attractor{<:PositionAroundPoint{R1,R1}}, CN::Chart{1,R1}) = \n",
    "    default_metric(xn, task, CN)\n",
    "PBDS.potential_chart(xn, task::Attractor{<:PositionAroundPoint{R1,R1}}, CN::Chart{1,R1}) = sum(xn.^2)\n",
    "PBDS.dissipative_forces_chart(xn, vn, task::Attractor{<:PositionAroundPoint{R1,R1}}, CN::Chart{1,R1}) = -3*vn\n",
    "PBDS.weight_metric_chart(xn, vn, task::Attractor{<:PositionAroundPoint{R1,R1}}, CN::Chart{1,R1}) = \n",
    "    default_weight_metric(xn, vn, task, CN)"
   ]
  },
  {
   "cell_type": "code",
   "execution_count": 29,
   "metadata": {},
   "outputs": [
    {
     "data": {
      "text/plain": [
       "(Chart{1, R1}(), Chart{1, R1}())"
      ]
     },
     "metadata": {},
     "output_type": "display_data"
    }
   ],
   "source": [
    "xm_goal = SA[0.]\n",
    "M, N = R1, R1\n",
    "task = Attractor(PositionAroundPoint{M,N}(xm_goal))\n",
    "CM, CN = Chart{1,M}(), Chart{1,N}()"
   ]
  },
  {
   "cell_type": "markdown",
   "metadata": {},
   "source": [
    "## Point Acceleration"
   ]
  },
  {
   "cell_type": "code",
   "execution_count": 30,
   "metadata": {},
   "outputs": [
    {
     "data": {
      "text/plain": [
       "([-10.0], Chart{1, R1}())"
      ]
     },
     "metadata": {},
     "output_type": "display_data"
    }
   ],
   "source": [
    "# Initial state\n",
    "xm = SA[2.]\n",
    "vm = SA[2.]\n",
    "\n",
    "σxddot, = single_task_acceleration(xm, vm, task, CM, CN)"
   ]
  },
  {
   "cell_type": "markdown",
   "metadata": {},
   "source": [
    "## Single Trajectory"
   ]
  },
  {
   "cell_type": "code",
   "execution_count": 31,
   "metadata": {},
   "outputs": [
    {
     "data": {
      "text/plain": [
       "1-element SVector{1, Float64} with indices SOneTo(1):\n",
       " 0.0002863568464694686"
      ]
     },
     "metadata": {},
     "output_type": "display_data"
    }
   ],
   "source": [
    "Time = 10\n",
    "dt = 0.05\n",
    "robot_coord_rep = ChartRep()\n",
    "traj = propagate_task(xm, vm, task, CM, CN, Time, dt, robot_coord_rep)\n",
    "traj.xm[end]"
   ]
  },
  {
   "cell_type": "code",
   "execution_count": 38,
   "metadata": {},
   "outputs": [],
   "source": [
    "using ProgressMeter, VectorizedRoutines\n",
    "using Plots, Makie, Observables"
   ]
  },
  {
   "cell_type": "code",
   "execution_count": 39,
   "metadata": {},
   "outputs": [
    {
     "name": "stdout",
     "output_type": "stream",
     "text": []
    }
   ],
   "source": [
    "Nplot = length(traj.xm)\n",
    "isdefined(Main, :no_plots) || Plots.plot(getindex.(traj.xm,1)[1:Nplot])"
   ]
  },
  {
   "cell_type": "markdown",
   "metadata": {},
   "source": [
    "## Multiple Trajectories"
   ]
  },
  {
   "cell_type": "code",
   "execution_count": 42,
   "metadata": {},
   "outputs": [
    {
     "name": "stderr",
     "output_type": "stream",
     "text": [
      "\u001b[32mProgress: 100%|█████████████████████████████████████████| Time: 0:00:00\u001b[39m\u001b[K\n"
     ]
    }
   ],
   "source": [
    "Time = 5\n",
    "dt = 0.02\n",
    "a = 2.\n",
    "xm, vm = Matlab.meshgrid(-a:1.:a, -a:1.:a)\n",
    "xm, vm = reshape(xm, length(xm)), reshape(vm, length(vm))\n",
    "\n",
    "# Remove zero point\n",
    "ind_mid = length(xm) ÷ 2 + 1 \n",
    "deleteat!(xm, ind_mid)\n",
    "deleteat!(vm, ind_mid)\n",
    "\n",
    "ntraj = length(xm)\n",
    "trajs = Array{Any}(undef, ntraj)\n",
    "p = Progress(ntraj)\n",
    "\n",
    "Threads.@threads for i = 1:ntraj\n",
    "    trajs[i] = propagate_task(SA[xm[i]], SA[vm[i]], task, CM, CN, Time, dt, robot_coord_rep)\n",
    "    isdefined(Main, :Test) || next!(p)\n",
    "end"
   ]
  },
  {
   "cell_type": "code",
   "execution_count": 44,
   "metadata": {},
   "outputs": [
    {
     "ename": "UndefVarError",
     "evalue": "UndefVarError: `FRect3D` not defined",
     "output_type": "error",
     "traceback": [
      "UndefVarError: `FRect3D` not defined\n",
      "\n",
      "Stacktrace:\n",
      " [1] top-level scope\n",
      "   @ ~/exp/PBDS.jl/examples/PBDS/R1_To_R1PointPositionAttractor.ipynb:9"
     ]
    }
   ],
   "source": [
    "using GeometryBasics\n",
    "\n",
    "Makie.inline!(false)\n",
    "fx(i) = [trajs[j].xm[i][1] for j = 1:ntraj]\n",
    "fy(i) = [trajs[j].vm[i][1] for j = 1:ntraj]\n",
    "fz(i) = [trajs[j].am[i][1] for j = 1:ntraj]\n",
    "f(i) = [trajs[j].xm[i] trajs[j].vm[i] trajs[j].am[i]]\n",
    "iobs = Observable(1)\n",
    "\n",
    "ax_size, plot_size = 5, 800\n",
    "limits = FRect3D((-ax_size, -ax_size, -ax_size), (2*ax_size, 2*ax_size, 2*ax_size))\n",
    "scene = Scene(resolution = (plot_size, plot_size))\n",
    "Makie.scatter!(scene, lift(i -> fx(i), iobs), lift(i -> fy(i), iobs), lift(i -> fz(i), iobs))\n",
    "Makie.scatter!(scene, lift(i -> fx(i), iobs), lift(i -> fy(i), iobs), lift(i -> fz(i), iobs), markersize = ax_size/20, color = :blue, limits = limits)\n",
    "Makie.scatter!(scene, [xm_goal[1] 0. 0.], markersize = ax_size/20, color = :darkgreen)\n",
    "for i = 1:ntraj\n",
    "    Makie.lines!(scene, getindex.(trajs[i].xm,1), getindex.(trajs[i].vm,1), getindex.(trajs[i].am,1), color = :purple, alpha = 0.1, transparency = true)\n",
    "end\n",
    "\n",
    "Makie.xlabel!(scene, \"x\")\n",
    "Makie.ylabel!(scene, \"v\")\n",
    "Makie.zlabel!(scene, \"a\")\n",
    "axis = scene[Axis]\n",
    "axis.showaxis = false\n",
    "isdefined(Main, :no_plots) || display(scene)"
   ]
  },
  {
   "cell_type": "code",
   "execution_count": 23,
   "metadata": {},
   "outputs": [
    {
     "ename": "UndefVarError",
     "evalue": "UndefVarError: `scene` not defined",
     "output_type": "error",
     "traceback": [
      "UndefVarError: `scene` not defined\n",
      "\n",
      "Stacktrace:\n",
      " [1] top-level scope\n",
      "   @ ~/exp/PBDS.jl/examples/PBDS/R1_To_R1PointPositionAttractor.ipynb:11"
     ]
    }
   ],
   "source": [
    "function record_scene(scene, filename, iobs, N)\n",
    "    p = Progress(N)\n",
    "    record(scene, filename, 1:N) do i\n",
    "        iobs[] = i\n",
    "        isdefined(Main, :Test) || next!(p)\n",
    "    end\n",
    "    isdefined(Main, :Test) || display(\"text/html\", html_video(filename))\n",
    "end\n",
    "\n",
    "filename = \"R1ToR1Attractor_xva.mp4\"\n",
    "isdefined(Main, :no_plots) || record_scene(scene, filename, iobs, length(trajs[1].xm))"
   ]
  },
  {
   "cell_type": "markdown",
   "metadata": {},
   "source": [
    "### In (x, v) space"
   ]
  },
  {
   "cell_type": "code",
   "execution_count": 24,
   "metadata": {},
   "outputs": [
    {
     "ename": "UndefVarError",
     "evalue": "UndefVarError: `AbstractPlotting` not defined",
     "output_type": "error",
     "traceback": [
      "UndefVarError: `AbstractPlotting` not defined\n",
      "\n",
      "Stacktrace:\n",
      " [1] top-level scope\n",
      "   @ ~/exp/PBDS.jl/examples/PBDS/R1_To_R1PointPositionAttractor.ipynb:1"
     ]
    }
   ],
   "source": [
    "AbstractPlotting.inline!(false)\n",
    "fx(i) = [trajs[j].xm[i][1] for j = 1:ntraj]\n",
    "fy(i) = [trajs[j].vm[i][1] for j = 1:ntraj]\n",
    "iobs = Observable(1)\n",
    "\n",
    "ax_size, plot_size = 3, 500\n",
    "limits = FRect((-ax_size, -ax_size), (2*ax_size, 2*ax_size))\n",
    "scene = Scene(resolution = (plot_size, plot_size))\n",
    "Makie.scatter!(scene, lift(i -> fx(i), iobs), lift(i -> fy(i), iobs), markersize = ax_size/20, color = :blue, limits = limits)\n",
    "Makie.scatter!(scene, [0. 0.], markersize = ax_size/20, color = :darkgreen)\n",
    "for i = 1:ntraj\n",
    "    Makie.lines!(scene, getindex.(trajs[i].xm,1), getindex.(trajs[i].vm,1), color = :purple, alpha = 0.1, transparency = true)\n",
    "end\n",
    "\n",
    "Makie.xlabel!(scene, \"x\")\n",
    "Makie.ylabel!(scene, \"v\")\n",
    "axis = scene[Axis]\n",
    "axis.showaxis = false\n",
    "isdefined(Main, :no_plots) || display(scene)"
   ]
  },
  {
   "cell_type": "code",
   "execution_count": 25,
   "metadata": {},
   "outputs": [
    {
     "ename": "UndefVarError",
     "evalue": "UndefVarError: `scene` not defined",
     "output_type": "error",
     "traceback": [
      "UndefVarError: `scene` not defined\n",
      "\n",
      "Stacktrace:\n",
      " [1] top-level scope\n",
      "   @ ~/exp/PBDS.jl/examples/PBDS/R1_To_R1PointPositionAttractor.ipynb:2"
     ]
    }
   ],
   "source": [
    "filename = \"R1ToR1Attractor_xv.mp4\"\n",
    "isdefined(Main, :no_plots) || record_scene(scene, filename, iobs, length(trajs[1].xm))"
   ]
  },
  {
   "cell_type": "code",
   "execution_count": 26,
   "metadata": {},
   "outputs": [],
   "source": []
  }
 ],
 "metadata": {
  "@webio": {
   "lastCommId": null,
   "lastKernelId": null
  },
  "kernelspec": {
   "display_name": "Julia 1.10.2",
   "language": "julia",
   "name": "julia-1.10"
  },
  "language_info": {
   "file_extension": ".jl",
   "mimetype": "application/julia",
   "name": "julia",
   "version": "1.10.2"
  }
 },
 "nbformat": 4,
 "nbformat_minor": 2
}
